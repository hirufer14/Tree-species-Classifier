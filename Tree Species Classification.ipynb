{
 "cells": [
  {
   "cell_type": "code",
   "execution_count": 205,
   "id": "8e482c6e-3011-4430-b961-bd8de55ca1cf",
   "metadata": {},
   "outputs": [],
   "source": [
    "import numpy as np\n",
    "import pandas as pd\n",
    "from sklearn.model_selection import train_test_split\n",
    "from sklearn.preprocessing import StandardScaler\n",
    "from sklearn.preprocessing import LabelEncoder\n",
    "from tensorflow.keras.models import Sequential\n",
    "from tensorflow.keras.layers import Dense\n",
    "from tensorflow.keras.utils import to_categorical\n",
    "from tensorflow.keras.optimizers import Adam\n",
    "from tensorflow.keras.callbacks import EarlyStopping\n",
    "import matplotlib.pyplot as plt\n",
    "import joblib"
   ]
  },
  {
   "cell_type": "code",
   "execution_count": 206,
   "id": "34b03b28-4bef-41de-a620-8fe2af6f1b61",
   "metadata": {},
   "outputs": [],
   "source": [
    "np.random.seed(42)"
   ]
  },
  {
   "cell_type": "markdown",
   "id": "00cac5d8-e1d1-4c05-b590-9d1773b8b221",
   "metadata": {},
   "source": [
    "# load dataset"
   ]
  },
  {
   "cell_type": "code",
   "execution_count": 207,
   "id": "b58a32e0-7e52-44dd-a160-7c193a6cbd18",
   "metadata": {},
   "outputs": [],
   "source": [
    "data = pd.read_csv('/Users/hirunifernando/Desktop/tree_classifier__datasets.csv')"
   ]
  },
  {
   "cell_type": "markdown",
   "id": "7f0b6794-7724-4d61-b404-4e79f9c105c5",
   "metadata": {},
   "source": [
    "# separate features and labels"
   ]
  },
  {
   "cell_type": "code",
   "execution_count": 208,
   "id": "50ef5b3f-7756-463e-8138-68cf0446c49f",
   "metadata": {},
   "outputs": [],
   "source": [
    "X = data[['length', 'width', 'ratio', 'petiole_length', 'angle']]"
   ]
  },
  {
   "cell_type": "code",
   "execution_count": 209,
   "id": "5b6a6b6e-0957-45fd-8107-732a7350edb7",
   "metadata": {},
   "outputs": [],
   "source": [
    "y = data['species']"
   ]
  },
  {
   "cell_type": "markdown",
   "id": "3fcd7205-06ca-4297-8d34-6f1e0ec27b08",
   "metadata": {},
   "source": [
    "# Split the dataset into training and testing sets"
   ]
  },
  {
   "cell_type": "code",
   "execution_count": 210,
   "id": "ad89fd47-87be-4ce7-a72a-5a90d70f61a8",
   "metadata": {},
   "outputs": [],
   "source": [
    "X_train, X_test, y_train, y_test = train_test_split(X, y_encoded, test_size=0.2, random_state=42)"
   ]
  },
  {
   "cell_type": "code",
   "execution_count": 211,
   "id": "9c05a09d-ee22-4bfd-b5ab-8c019955aca4",
   "metadata": {},
   "outputs": [],
   "source": [
    "x_val = X_train[:30]\n",
    "y_val = y_train[:30]"
   ]
  },
  {
   "cell_type": "code",
   "execution_count": 212,
   "id": "cd06589e-88e5-4882-aa0a-f4f7b993eda8",
   "metadata": {},
   "outputs": [],
   "source": [
    "label_encoder = LabelEncoder()\n",
    "y_encoded = label_encoder.fit_transform(y)"
   ]
  },
  {
   "cell_type": "code",
   "execution_count": 213,
   "id": "f1be61be-dccb-4723-aa6e-fbf37d955a31",
   "metadata": {},
   "outputs": [],
   "source": [
    "one_hot_train_labels = to_categorical(y_train)\n",
    "one_hot_val_labels = to_categorical(y_val)\n",
    "one_hot_test_labels = to_categorical(y_test)"
   ]
  },
  {
   "cell_type": "code",
   "execution_count": 214,
   "id": "de807820-7eec-4e9d-8197-41f6880c5080",
   "metadata": {},
   "outputs": [],
   "source": [
    "scaler = StandardScaler()\n",
    "X_train = scaler.fit_transform(X_train)\n",
    "X_test = scaler.transform(X_test)"
   ]
  },
  {
   "cell_type": "code",
   "execution_count": 215,
   "id": "b603ec3c-3915-41bc-9628-fd11cd11d815",
   "metadata": {},
   "outputs": [
    {
     "data": {
      "text/plain": [
       "(120, 5)"
      ]
     },
     "execution_count": 215,
     "metadata": {},
     "output_type": "execute_result"
    }
   ],
   "source": [
    "X_train.shape"
   ]
  },
  {
   "cell_type": "code",
   "execution_count": 216,
   "id": "b0b459ae-8439-4349-94de-3069b1fae760",
   "metadata": {},
   "outputs": [
    {
     "data": {
      "text/plain": [
       "(30, 5)"
      ]
     },
     "execution_count": 216,
     "metadata": {},
     "output_type": "execute_result"
    }
   ],
   "source": [
    "X_test.shape"
   ]
  },
  {
   "cell_type": "code",
   "execution_count": 217,
   "id": "bb304297-9432-486f-8261-de424c1df8ec",
   "metadata": {},
   "outputs": [
    {
     "data": {
      "text/plain": [
       "120"
      ]
     },
     "execution_count": 217,
     "metadata": {},
     "output_type": "execute_result"
    }
   ],
   "source": [
    "len(one_hot_train_labels)"
   ]
  },
  {
   "cell_type": "code",
   "execution_count": 218,
   "id": "0ef73206-16be-4423-9178-3c52622f64d9",
   "metadata": {},
   "outputs": [
    {
     "data": {
      "text/plain": [
       "(30, 3)"
      ]
     },
     "execution_count": 218,
     "metadata": {},
     "output_type": "execute_result"
    }
   ],
   "source": [
    "one_hot_test_labels.shape"
   ]
  },
  {
   "cell_type": "code",
   "execution_count": 219,
   "id": "f28266b2-0dc2-4dc9-b0f2-c0e0c9a4cd97",
   "metadata": {},
   "outputs": [
    {
     "data": {
      "text/plain": [
       "(120, 3)"
      ]
     },
     "execution_count": 219,
     "metadata": {},
     "output_type": "execute_result"
    }
   ],
   "source": [
    "one_hot_train_labels.shape\n",
    "\n"
   ]
  },
  {
   "cell_type": "code",
   "execution_count": 220,
   "id": "bc3ecd6f-efe3-4dec-91ee-fe10f1833ad4",
   "metadata": {},
   "outputs": [
    {
     "data": {
      "text/plain": [
       "(30, 3)"
      ]
     },
     "execution_count": 220,
     "metadata": {},
     "output_type": "execute_result"
    }
   ],
   "source": [
    "one_hot_val_labels.shape"
   ]
  },
  {
   "cell_type": "markdown",
   "id": "f535d612-1ab1-464c-a058-72e183a009ed",
   "metadata": {},
   "source": [
    "# Define the model"
   ]
  },
  {
   "cell_type": "code",
   "execution_count": 270,
   "id": "ceabc3b9-0647-4757-bb6a-47e6d30b1a81",
   "metadata": {},
   "outputs": [],
   "source": [
    "model = Sequential()\n",
    "model.add(Dense(8, input_dim=5, activation='relu'))\n",
    "model.add(Dense(3, activation='softmax'))"
   ]
  },
  {
   "cell_type": "code",
   "execution_count": 271,
   "id": "be804548-00c0-452f-9d70-44f3f57ddd1e",
   "metadata": {},
   "outputs": [],
   "source": [
    "import tensorflow as tf"
   ]
  },
  {
   "cell_type": "code",
   "execution_count": 272,
   "id": "f5d6f707-0615-4c0d-abfe-babfe8794894",
   "metadata": {},
   "outputs": [],
   "source": [
    "optimizer = tf.keras.optimizers.legacy.Adam(learning_rate=0.01)"
   ]
  },
  {
   "cell_type": "code",
   "execution_count": 273,
   "id": "97033b85-155f-4b4a-ba79-d7309aaa4f4f",
   "metadata": {},
   "outputs": [],
   "source": [
    "model.compile(loss='categorical_crossentropy', optimizer=optimizer, metrics=['accuracy'])"
   ]
  },
  {
   "cell_type": "markdown",
   "id": "774493e7-6696-464c-8938-3de9d3910edc",
   "metadata": {},
   "source": [
    "# Train the model"
   ]
  },
  {
   "cell_type": "code",
   "execution_count": 274,
   "id": "c651934a-e434-422a-817d-5e8ab23cfe51",
   "metadata": {},
   "outputs": [
    {
     "name": "stdout",
     "output_type": "stream",
     "text": [
      "Epoch 1/5\n",
      "12/12 [==============================] - 0s 6ms/step - loss: 0.8518 - accuracy: 0.6000 - val_loss: 14.6515 - val_accuracy: 0.2667\n",
      "Epoch 2/5\n",
      "12/12 [==============================] - 0s 1ms/step - loss: 0.4796 - accuracy: 0.8583 - val_loss: 18.9542 - val_accuracy: 0.2667\n",
      "Epoch 3/5\n",
      "12/12 [==============================] - 0s 1ms/step - loss: 0.3045 - accuracy: 0.9750 - val_loss: 19.5104 - val_accuracy: 0.2667\n",
      "Epoch 4/5\n",
      "12/12 [==============================] - 0s 1ms/step - loss: 0.1880 - accuracy: 0.9917 - val_loss: 18.4681 - val_accuracy: 0.2667\n",
      "Epoch 5/5\n",
      "12/12 [==============================] - 0s 1ms/step - loss: 0.1205 - accuracy: 0.9917 - val_loss: 16.0883 - val_accuracy: 0.2667\n"
     ]
    }
   ],
   "source": [
    "history = model.fit(X_train,one_hot_train_labels, epochs=5, batch_size=10, validation_data=(x_val, one_hot_val_labels))"
   ]
  },
  {
   "cell_type": "code",
   "execution_count": 275,
   "id": "5a9ef1de-c2c0-4e79-b38c-5757faa71907",
   "metadata": {},
   "outputs": [
    {
     "data": {
      "image/png": "[encoded data removed]",
      "text/plain": [
       "<Figure size 640x480 with 1 Axes>"
      ]
     },
     "metadata": {},
     "output_type": "display_data"
    }
   ],
   "source": [
    "loss = history.history['loss']\n",
    "val_loss = history.history['val_loss']\n",
    "epochs = range(1, len(loss) + 1)\n",
    "plt.plot(epochs, loss, 'r', label='Training loss')\n",
    "plt.plot(epochs, val_loss, 'b', label='Validation loss')\n",
    "plt.title('Training and validation loss')\n",
    "plt.xlabel('Epochs')\n",
    "plt.ylabel('Loss')\n",
    "plt.legend()\n",
    "plt.show()"
   ]
  },
  {
   "cell_type": "code",
   "execution_count": 276,
   "id": "3eb084fd-0e03-4fc0-ac25-e869cdc5ec4f",
   "metadata": {},
   "outputs": [
    {
     "data": {
      "image/png": "[encoded data removed]",
      "text/plain": [
       "<Figure size 640x480 with 1 Axes>"
      ]
     },
     "metadata": {},
     "output_type": "display_data"
    }
   ],
   "source": [
    "plt.clf()\n",
    "acc = history.history['accuracy']\n",
    "val_acc = history.history['val_accuracy']\n",
    "plt.plot(epochs, acc, 'r', label='Training acc')\n",
    "plt.plot(epochs, val_acc, 'b', label='Validation acc')\n",
    "plt.title('Training and validation accuracy')\n",
    "plt.xlabel('Epochs')\n",
    "plt.ylabel('Loss')\n",
    "plt.legend()\n",
    "plt.show()"
   ]
  },
  {
   "cell_type": "markdown",
   "id": "3190ed2c-d0a2-4e82-a505-dd5354f9d806",
   "metadata": {},
   "source": [
    "# evaluate the model"
   ]
  },
  {
   "cell_type": "code",
   "execution_count": 277,
   "id": "23f08674-52ff-421e-839b-b6766afda16c",
   "metadata": {},
   "outputs": [
    {
     "name": "stdout",
     "output_type": "stream",
     "text": [
      "1/1 [==============================] - 0s 52ms/step - loss: 0.0747 - accuracy: 1.0000\n",
      "Test Accuracy: 100.00%\n"
     ]
    }
   ],
   "source": [
    "loss, accuracy = model.evaluate(X_test,one_hot_test_labels )\n",
    "print(f\"Test Accuracy: {accuracy * 100:.2f}%\")"
   ]
  },
  {
   "cell_type": "markdown",
   "id": "bf67e316-bbc3-4d94-bfa0-1f740e8e2282",
   "metadata": {},
   "source": [
    "X_scaled = scaler.transform(X)"
   ]
  },
  {
   "cell_type": "markdown",
   "id": "c3203ec4-0d02-4170-b21e-2e60f802966b",
   "metadata": {},
   "source": [
    "# make predictions"
   ]
  },
  {
   "cell_type": "code",
   "execution_count": 278,
   "id": "2cb15825-37f7-4576-a8d4-60b260a8c246",
   "metadata": {},
   "outputs": [
    {
     "name": "stdout",
     "output_type": "stream",
     "text": [
      "1/1 [==============================] - 0s 35ms/step\n"
     ]
    }
   ],
   "source": [
    "predictions = model.predict(X_test)"
   ]
  },
  {
   "cell_type": "code",
   "execution_count": 279,
   "id": "4891222d-e8f3-47c0-b049-334c021b6cf1",
   "metadata": {},
   "outputs": [],
   "source": [
    "predicted_classes = np.argmax(predictions, axis=1)\n",
    "true_classes = np.argmax(one_hot_test_labels, axis=1)"
   ]
  },
  {
   "cell_type": "code",
   "execution_count": 280,
   "id": "f6fc0622-065e-4ab1-98c7-1ad73f734be3",
   "metadata": {},
   "outputs": [],
   "source": [
    "predicted_species = label_encoder.inverse_transform(predicted_classes)\n",
    "true_species = label_encoder.inverse_transform(true_classes)"
   ]
  },
  {
   "cell_type": "code",
   "execution_count": 281,
   "id": "b4998541-f5e1-463f-926d-c6f81e53f8a4",
   "metadata": {},
   "outputs": [
    {
     "name": "stdout",
     "output_type": "stream",
     "text": [
      "         True Species  Predicted Species\n",
      "0               guava              guava\n",
      "1               guava              guava\n",
      "2           jackfruit          jackfruit\n",
      "3               guava              guava\n",
      "4               guava              guava\n",
      "5   creamColour_ixora  creamColour_ixora\n",
      "6           jackfruit          jackfruit\n",
      "7           jackfruit          jackfruit\n",
      "8               guava              guava\n",
      "9               guava              guava\n",
      "10  creamColour_ixora  creamColour_ixora\n",
      "11              guava              guava\n",
      "12          jackfruit          jackfruit\n",
      "13  creamColour_ixora  creamColour_ixora\n",
      "14              guava              guava\n",
      "15  creamColour_ixora  creamColour_ixora\n",
      "16          jackfruit          jackfruit\n",
      "17              guava              guava\n",
      "18  creamColour_ixora  creamColour_ixora\n",
      "19  creamColour_ixora  creamColour_ixora\n",
      "20          jackfruit          jackfruit\n",
      "21              guava              guava\n",
      "22          jackfruit          jackfruit\n",
      "23              guava              guava\n",
      "24  creamColour_ixora  creamColour_ixora\n",
      "25          jackfruit          jackfruit\n",
      "26  creamColour_ixora  creamColour_ixora\n",
      "27          jackfruit          jackfruit\n",
      "28          jackfruit          jackfruit\n",
      "29  creamColour_ixora  creamColour_ixora\n"
     ]
    }
   ],
   "source": [
    "results = pd.DataFrame({'True Species': true_species, 'Predicted Species': predicted_species})\n",
    "print(results)"
   ]
  },
  {
   "cell_type": "code",
   "execution_count": 282,
   "id": "c2db2f2e-d2e0-4398-af51-58689da46899",
   "metadata": {},
   "outputs": [
    {
     "name": "stdout",
     "output_type": "stream",
     "text": [
      "Prediction Accuracy: 100.00%\n"
     ]
    }
   ],
   "source": [
    "accuracy = np.mean(predicted_species == true_species)\n",
    "print(f\"Prediction Accuracy: {accuracy * 100:.2f}%\")"
   ]
  },
  {
   "cell_type": "code",
   "execution_count": 283,
   "id": "a29b3b03-b292-4ca0-8cb7-e6c3741fa3f1",
   "metadata": {},
   "outputs": [],
   "source": [
    "model.save('tree_species_classifier2.h5')"
   ]
  },
  {
   "cell_type": "code",
   "execution_count": null,
   "id": "405ae2d0-7668-403a-8e93-05b9b42f80cd",
   "metadata": {},
   "outputs": [],
   "source": []
  }
 ],
 "metadata": {
  "kernelspec": {
   "display_name": "Python 3 (ipykernel)",
   "language": "python",
   "name": "python3"
  },
  "language_info": {
   "codemirror_mode": {
    "name": "ipython",
    "version": 3
   },
   "file_extension": ".py",
   "mimetype": "text/x-python",
   "name": "python",
   "nbconvert_exporter": "python",
   "pygments_lexer": "ipython3",
   "version": "3.11.5"
  }
 },
 "nbformat": 4,
 "nbformat_minor": 5
}
